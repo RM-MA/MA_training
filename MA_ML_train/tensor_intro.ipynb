{
 "cells": [
  {
   "cell_type": "code",
   "execution_count": 4,
   "id": "90aa20a3-c952-4f06-938e-e4baa7bbb3ff",
   "metadata": {},
   "outputs": [],
   "source": [
    "import torch"
   ]
  },
  {
   "cell_type": "code",
   "execution_count": 5,
   "id": "b2e67515-1000-42df-875d-c4acdb4bcd92",
   "metadata": {},
   "outputs": [
    {
     "data": {
      "text/plain": [
       "tensor([1., 1., 1.])"
      ]
     },
     "execution_count": 5,
     "metadata": {},
     "output_type": "execute_result"
    }
   ],
   "source": [
    "a = torch.ones(3) # Build a 1-d tensor and fill one in it.\n",
    "a"
   ]
  },
  {
   "cell_type": "code",
   "execution_count": 6,
   "id": "716478ec-c7bb-4597-bfa8-27acde5402b6",
   "metadata": {},
   "outputs": [
    {
     "data": {
      "text/plain": [
       "tensor([0., 0., 0., 0., 0., 0.])"
      ]
     },
     "execution_count": 6,
     "metadata": {},
     "output_type": "execute_result"
    }
   ],
   "source": [
    "points = torch.zeros(6)\n",
    "points"
   ]
  },
  {
   "cell_type": "code",
   "execution_count": 7,
   "id": "3141b8f8-2916-4e69-92fb-af17764be860",
   "metadata": {},
   "outputs": [
    {
     "data": {
      "text/plain": [
       "tensor([4., 1., 5., 3., 2., 1.])"
      ]
     },
     "execution_count": 7,
     "metadata": {},
     "output_type": "execute_result"
    }
   ],
   "source": [
    "points[0] = 4.0\n",
    "points[1] = 1.0\n",
    "points[2] = 5.0\n",
    "points[3] = 3.0\n",
    "points[4] = 2.0\n",
    "points[5] = 1.0\n",
    "points"
   ]
  },
  {
   "cell_type": "code",
   "execution_count": 8,
   "id": "d39efea0-1ded-413a-b202-de8bb782bc50",
   "metadata": {},
   "outputs": [
    {
     "data": {
      "text/plain": [
       "tensor([4., 1., 5., 3., 2., 1.])"
      ]
     },
     "execution_count": 8,
     "metadata": {},
     "output_type": "execute_result"
    }
   ],
   "source": [
    "points = torch.tensor([4.0, 1.0, 5.0, 3.0, 2.0, 1.0])\n",
    "points"
   ]
  },
  {
   "cell_type": "code",
   "execution_count": 9,
   "id": "44719d0f-9936-4031-b3c2-ff0c1294ed52",
   "metadata": {},
   "outputs": [
    {
     "data": {
      "text/plain": [
       "(4.0, 1.0)"
      ]
     },
     "execution_count": 9,
     "metadata": {},
     "output_type": "execute_result"
    }
   ],
   "source": [
    "float(points[0]), float(points[1])"
   ]
  },
  {
   "cell_type": "code",
   "execution_count": 10,
   "id": "a8705622-cfef-40c4-9811-991229442108",
   "metadata": {},
   "outputs": [
    {
     "data": {
      "text/plain": [
       "tensor([[4., 1.],\n",
       "        [5., 3.],\n",
       "        [2., 1.]])"
      ]
     },
     "execution_count": 10,
     "metadata": {},
     "output_type": "execute_result"
    }
   ],
   "source": [
    "points = torch.tensor([[4.0, 1.0], [5.0, 3.0], [2.0, 1.0]])\n",
    "points"
   ]
  },
  {
   "cell_type": "code",
   "execution_count": 11,
   "id": "34d4cf03-6a95-4900-8f5b-37c62a143094",
   "metadata": {},
   "outputs": [
    {
     "data": {
      "text/plain": [
       "torch.Size([3, 2])"
      ]
     },
     "execution_count": 11,
     "metadata": {},
     "output_type": "execute_result"
    }
   ],
   "source": [
    "points.shape"
   ]
  },
  {
   "cell_type": "code",
   "execution_count": 12,
   "id": "447dad42-4e63-4450-a310-49442bb8b1d1",
   "metadata": {},
   "outputs": [
    {
     "data": {
      "text/plain": [
       "tensor([[0., 0.],\n",
       "        [0., 0.],\n",
       "        [0., 0.]])"
      ]
     },
     "execution_count": 12,
     "metadata": {},
     "output_type": "execute_result"
    }
   ],
   "source": [
    "points = torch.zeros(3, 2)\n",
    "points"
   ]
  },
  {
   "cell_type": "code",
   "execution_count": 13,
   "id": "29e1ead6-e1cb-446b-b4c3-2c4d385bf1fd",
   "metadata": {},
   "outputs": [
    {
     "data": {
      "text/plain": [
       "tensor([0., 0.])"
      ]
     },
     "execution_count": 13,
     "metadata": {},
     "output_type": "execute_result"
    }
   ],
   "source": [
    "points[0]"
   ]
  },
  {
   "cell_type": "markdown",
   "id": "bed36805-b896-4021-bc4c-376b636cf135",
   "metadata": {},
   "source": [
    "# Index  tensor"
   ]
  },
  {
   "cell_type": "code",
   "execution_count": 14,
   "id": "6b4f4f4d-073e-4868-825c-4171b8e73135",
   "metadata": {},
   "outputs": [
    {
     "data": {
      "text/plain": [
       "[0, 1, 2, 3, 4, 5]"
      ]
     },
     "execution_count": 14,
     "metadata": {},
     "output_type": "execute_result"
    }
   ],
   "source": [
    "some_list = list(range(6))\n",
    "some_list"
   ]
  },
  {
   "cell_type": "code",
   "execution_count": 15,
   "id": "2cbb2bd9-f4ea-467b-9d27-993a6830c55c",
   "metadata": {},
   "outputs": [
    {
     "data": {
      "text/plain": [
       "[1, 2, 3, 4, 5]"
      ]
     },
     "execution_count": 15,
     "metadata": {},
     "output_type": "execute_result"
    }
   ],
   "source": [
    "some_list[:]\n",
    "some_list[1:4]\n",
    "some_list[1:]"
   ]
  },
  {
   "cell_type": "code",
   "execution_count": 16,
   "id": "ce6e2b5a-e9e9-43c7-aa57-bbed0ca1ebd8",
   "metadata": {},
   "outputs": [
    {
     "data": {
      "text/plain": [
       "tensor([[5., 3.],\n",
       "        [2., 1.]])"
      ]
     },
     "execution_count": 16,
     "metadata": {},
     "output_type": "execute_result"
    }
   ],
   "source": [
    "points = torch.tensor([[4.0, 1.0], [5.0, 3.0], [2.0, 1.0]])\n",
    "points[1:]"
   ]
  },
  {
   "cell_type": "code",
   "execution_count": 17,
   "id": "9e14b6d1-ab5f-4548-a0c4-ee84861030aa",
   "metadata": {},
   "outputs": [
    {
     "data": {
      "text/plain": [
       "tensor([[5., 3.],\n",
       "        [2., 1.]])"
      ]
     },
     "execution_count": 17,
     "metadata": {},
     "output_type": "execute_result"
    }
   ],
   "source": [
    "points[1:, :]"
   ]
  },
  {
   "cell_type": "code",
   "execution_count": 18,
   "id": "47d90011-e5ea-42e0-a30d-427d040f95e8",
   "metadata": {},
   "outputs": [
    {
     "data": {
      "text/plain": [
       "tensor([5., 2.])"
      ]
     },
     "execution_count": 18,
     "metadata": {},
     "output_type": "execute_result"
    }
   ],
   "source": [
    "# Lines besides the first line, the first column\n",
    "points[1:, 0]"
   ]
  },
  {
   "cell_type": "markdown",
   "id": "da52e647-10a9-4c08-87d8-3d851e966507",
   "metadata": {},
   "source": [
    "# Nameing a tensor"
   ]
  },
  {
   "cell_type": "code",
   "execution_count": 19,
   "id": "9d4286f5-39cf-4c0b-a5af-4fff94298f79",
   "metadata": {},
   "outputs": [
    {
     "data": {
      "text/plain": [
       "tensor([[[-0.0905, -0.4903, -1.3038, -0.8896, -1.2796],\n",
       "         [ 1.3463,  0.1972, -0.1853,  0.7096,  0.7803],\n",
       "         [-0.9676,  0.8480, -0.2113,  0.2768,  0.8033],\n",
       "         [ 0.0649,  1.0050, -0.4295,  0.3188, -0.6243],\n",
       "         [ 0.2493, -0.0579,  0.8300,  0.2460,  0.4223]],\n",
       "\n",
       "        [[-0.4302,  0.5879,  0.1404, -0.3969, -0.9986],\n",
       "         [ 0.5385,  0.6507, -0.8788,  0.3659,  0.6484],\n",
       "         [-0.2459, -1.6618,  1.5607, -0.0815, -0.0307],\n",
       "         [-0.9663,  2.1621,  0.4497, -0.2195, -1.1849],\n",
       "         [-0.2782, -0.8164,  0.4416,  1.2737, -0.4922]],\n",
       "\n",
       "        [[ 0.1381,  0.4352,  1.3895,  0.2413,  0.4484],\n",
       "         [ 0.2140,  0.2403, -1.2674, -0.3489, -0.5908],\n",
       "         [-1.3496, -1.6443, -2.1670, -0.8901, -2.1273],\n",
       "         [ 1.9505, -0.1283, -1.8012, -1.0908, -0.7135],\n",
       "         [-0.5097,  0.2747,  1.2505, -0.1223,  0.3640]]])"
      ]
     },
     "execution_count": 19,
     "metadata": {},
     "output_type": "execute_result"
    }
   ],
   "source": [
    "img_t = torch.randn(3, 5, 5) # Shape [channels, rows, columns]\n",
    "weights = torch.tensor([0.2126, 0.7152, 0.0722])\n",
    "img_t"
   ]
  },
  {
   "cell_type": "code",
   "execution_count": 20,
   "id": "7e2f3cdf-8514-4ce0-9138-7f8c34a0d513",
   "metadata": {},
   "outputs": [
    {
     "data": {
      "text/plain": [
       "tensor([[[[-2.1007, -1.5652, -2.0181, -0.2759, -1.5957],\n",
       "          [ 0.9648, -0.2170, -0.0740, -0.0149, -0.1177],\n",
       "          [-0.9254, -0.2406, -0.6306,  0.6397, -0.2801],\n",
       "          [-1.2200, -0.3138,  1.1677,  0.9057, -0.1552],\n",
       "          [ 2.5715,  0.1823, -0.3827, -2.7412, -0.3039]],\n",
       "\n",
       "         [[ 1.3861, -1.4387,  0.2010,  0.4517, -1.2188],\n",
       "          [ 0.3689,  2.1002, -1.6495, -0.3658, -0.3651],\n",
       "          [ 0.9747, -1.0026, -1.5662, -1.0754,  0.3262],\n",
       "          [ 0.1059, -0.5591,  1.8985,  1.8190, -0.6675],\n",
       "          [-0.8697,  1.6836, -1.5857, -0.3766, -0.4993]],\n",
       "\n",
       "         [[ 1.0357,  0.1310,  0.0539, -1.2120,  1.0420],\n",
       "          [-0.8515,  0.0986, -1.0086,  1.4893,  0.2035],\n",
       "          [-0.8220, -0.7517, -1.3974,  0.4714, -0.2777],\n",
       "          [ 1.7542,  0.6619,  0.1246, -0.6129,  1.1925],\n",
       "          [-1.1775, -0.4835, -0.4101, -1.5934,  1.4918]]],\n",
       "\n",
       "\n",
       "        [[[ 0.1373, -0.7405, -1.9968, -1.2791,  1.5796],\n",
       "          [ 3.2071, -1.2705, -0.9916,  0.2986, -0.3604],\n",
       "          [ 1.0445, -0.0574,  0.5465,  0.3247, -0.7575],\n",
       "          [ 0.8071,  1.7974,  0.1323,  0.2747, -0.1507],\n",
       "          [-0.7554,  0.8765, -1.0104,  0.0497,  0.3687]],\n",
       "\n",
       "         [[-1.8940, -0.7331, -1.5399,  1.5912,  0.6420],\n",
       "          [-0.2369, -0.8240, -0.1390, -0.9018, -1.1087],\n",
       "          [-0.5967, -0.1465, -2.2384,  0.5751,  0.7991],\n",
       "          [-0.1175,  1.2996, -0.9947, -1.1358,  0.4259],\n",
       "          [-1.1389,  0.4023,  0.6901, -1.2695, -1.6535]],\n",
       "\n",
       "         [[ 1.5351, -0.4890, -0.0171, -1.8411,  1.0316],\n",
       "          [ 0.3427, -1.8332, -1.6115, -2.0250, -0.9384],\n",
       "          [ 1.5714,  0.4381, -0.3406, -0.9147, -2.8200],\n",
       "          [-1.4352, -0.2035, -0.5959,  0.9792,  1.0590],\n",
       "          [ 0.7027, -1.4394,  0.1576,  0.2625,  0.5487]]]])"
      ]
     },
     "execution_count": 20,
     "metadata": {},
     "output_type": "execute_result"
    }
   ],
   "source": [
    "batch_t = torch.randn(2, 3, 5, 5) # Shape(batch, channels, rows, columns)\n",
    "batch_t"
   ]
  },
  {
   "cell_type": "code",
   "execution_count": 21,
   "id": "d762d2bb-d0f9-4e22-8b8a-b0032412a412",
   "metadata": {},
   "outputs": [],
   "source": [
    "img_gray_navie = img_t.mean(-3) # Color channel always begins with the 3 position from the last."
   ]
  },
  {
   "cell_type": "code",
   "execution_count": 22,
   "id": "d737a430-1878-4f0e-895a-c84fab4c7654",
   "metadata": {},
   "outputs": [
    {
     "data": {
      "text/plain": [
       "(torch.Size([5, 5]), torch.Size([2, 5, 5]))"
      ]
     },
     "execution_count": 22,
     "metadata": {},
     "output_type": "execute_result"
    }
   ],
   "source": [
    "batch_gray_navie = batch_t.mean(-3)\n",
    "img_gray_navie.shape, batch_gray_navie.shape"
   ]
  },
  {
   "cell_type": "code",
   "execution_count": 39,
   "id": "dd340087-09db-41e9-bae7-9dc60f9579c5",
   "metadata": {},
   "outputs": [
    {
     "data": {
      "text/plain": [
       "(torch.Size([2, 3, 5, 5]), torch.Size([2, 3, 5, 5]), torch.Size([3, 1, 1]))"
      ]
     },
     "execution_count": 39,
     "metadata": {},
     "output_type": "execute_result"
    }
   ],
   "source": [
    "unsqueezed_weights = weights.unsqueeze(-1).unsqueeze_(-1)\n",
    "img_weights = (img_t * unsqueezed_weigths)\n",
    "batch_weights = (batch_t * unsqueezed_weights) \n",
    "img_gray_weighted = img_weights.sum(-3)\n",
    "batch_gray_weighted = batch_weights.sum(-3)\n",
    "batch_weights.shape, batch_t.shape, unsqueezed_weights.shape"
   ]
  },
  {
   "cell_type": "code",
   "execution_count": null,
   "id": "a1362af5-5fb8-4b66-816c-7a66e4c8066d",
   "metadata": {},
   "outputs": [],
   "source": []
  },
  {
   "cell_type": "code",
   "execution_count": null,
   "id": "36d988c3-ade3-4c65-9edf-b4b2865f0ddd",
   "metadata": {},
   "outputs": [],
   "source": []
  },
  {
   "cell_type": "code",
   "execution_count": null,
   "id": "9beec88d-389a-4ceb-b374-62d13c914193",
   "metadata": {},
   "outputs": [],
   "source": []
  },
  {
   "cell_type": "code",
   "execution_count": null,
   "id": "6b8b560b-5f96-4390-bb41-a0f6245b3e39",
   "metadata": {},
   "outputs": [],
   "source": []
  }
 ],
 "metadata": {
  "kernelspec": {
   "display_name": "Python 3 (ipykernel)",
   "language": "python",
   "name": "python3"
  },
  "language_info": {
   "codemirror_mode": {
    "name": "ipython",
    "version": 3
   },
   "file_extension": ".py",
   "mimetype": "text/x-python",
   "name": "python",
   "nbconvert_exporter": "python",
   "pygments_lexer": "ipython3",
   "version": "3.10.12"
  }
 },
 "nbformat": 4,
 "nbformat_minor": 5
}
